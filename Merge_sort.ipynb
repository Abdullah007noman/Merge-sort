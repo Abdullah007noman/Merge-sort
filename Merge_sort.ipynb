{
  "nbformat": 4,
  "nbformat_minor": 0,
  "metadata": {
    "colab": {
      "provenance": []
    },
    "kernelspec": {
      "name": "python3",
      "display_name": "Python 3"
    },
    "language_info": {
      "name": "python"
    }
  },
  "cells": [
    {
      "cell_type": "code",
      "execution_count": 3,
      "metadata": {
        "colab": {
          "base_uri": "https://localhost:8080/"
        },
        "id": "zg1_FjN6A4WZ",
        "outputId": "2d8f210a-d58a-40d5-a6cf-df16220e5506"
      },
      "outputs": [
        {
          "output_type": "stream",
          "name": "stdout",
          "text": [
            "Original array: [5, 2, 4, 7, 1, 3, 2, 6]\n",
            "Sorted array: [1, 2, 2, 3, 4, 5, 6, 7]\n"
          ]
        }
      ],
      "source": [
        "def merge_sort(arr):\n",
        "    # Base case: if array has 1 or fewer elements, it's already sorted\n",
        "    if len(arr) <= 1:\n",
        "        return arr\n",
        "\n",
        "    # Find the middle point to divide array into two halves\n",
        "    mid = len(arr) // 2\n",
        "\n",
        "    # Recursively sort the two halves\n",
        "    left_half = merge_sort(arr[:mid])\n",
        "    right_half = merge_sort(arr[mid:])\n",
        "\n",
        "    # Merge the sorted halves\n",
        "    return merge(left_half, right_half)\n",
        "\n",
        "def merge(left, right):\n",
        "    merged = []  # Initialize result array\n",
        "    left_idx = right_idx = 0  # Initialize indices for both arrays\n",
        "\n",
        "    # Compare elements from both arrays and merge in sorted order\n",
        "    while left_idx < len(left) and right_idx < len(right):\n",
        "        if left[left_idx] <= right[right_idx]:\n",
        "            merged.append(left[left_idx])\n",
        "            left_idx += 1\n",
        "        else:\n",
        "            merged.append(right[right_idx])\n",
        "            right_idx += 1\n",
        "\n",
        "    # Add remaining elements from left array (if any)\n",
        "    merged.extend(left[left_idx:])\n",
        "\n",
        "    # Add remaining elements from right array (if any)\n",
        "    merged.extend(right[right_idx:])\n",
        "\n",
        "    return merged\n",
        "\n",
        "# Test the implementation\n",
        "if __name__ == \"__main__\":\n",
        "    test_array = [5, 2, 4, 7, 1, 3, 2, 6]\n",
        "    print(\"Original array:\", test_array)\n",
        "    sorted_array = merge_sort(test_array)\n",
        "    print(\"Sorted array:\", sorted_array)"
      ]
    },
    {
      "cell_type": "code",
      "source": [],
      "metadata": {
        "id": "cYAYlv3oA5pI"
      },
      "execution_count": null,
      "outputs": []
    }
  ]
}